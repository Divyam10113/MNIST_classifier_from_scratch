{
 "cells": [
  {
   "cell_type": "markdown",
   "id": "567cc404",
   "metadata": {},
   "source": [
    "# Importing Required Modules"
   ]
  },
  {
   "cell_type": "code",
   "execution_count": 13,
   "id": "24801ca0",
   "metadata": {},
   "outputs": [],
   "source": [
    "import numpy as np\n",
    "import pandas as pd\n",
    "import matplotlib.pyplot as plt"
   ]
  },
  {
   "cell_type": "markdown",
   "id": "0047efb0",
   "metadata": {},
   "source": [
    "# Loading and Analyzing Data"
   ]
  },
  {
   "cell_type": "code",
   "execution_count": 14,
   "id": "24e5c6ff",
   "metadata": {},
   "outputs": [],
   "source": [
    "df = pd.read_csv(\"train.csv\")\n",
    "X_train = df.drop(\"label\", axis=1).values  \n",
    "y_train = df[\"label\"].values            \n",
    "\n",
    "indices = np.arange(len(X_train))\n",
    "np.random.seed(42)\n",
    "np.random.shuffle(indices)\n",
    "\n",
    "split_idx = int(len(X_train) * 0.8)\n",
    "\n",
    "train_idx, val_idx = indices[:split_idx], indices[split_idx:]\n",
    "X_train, X_val = X_train[train_idx], X_train[val_idx]\n",
    "y_train, y_val = y_train[train_idx], y_train[val_idx]\n",
    "\n",
    "num_labels = 10\n",
    "\n",
    "# df_test = pd.read_csv(\"test.csv\")\n",
    "# X_test = df_test.values\n",
    "\n",
    "# df_test_values = pd.read_csv(\"sample_submission.csv\")\n",
    "# y_test = df_test_values.drop(\"ImageId\", axis = 1).values"
   ]
  },
  {
   "cell_type": "markdown",
   "id": "c6c4d34b",
   "metadata": {},
   "source": [
    "# One-Hot Encoding"
   ]
  },
  {
   "cell_type": "code",
   "execution_count": 15,
   "id": "3ff8ff06",
   "metadata": {},
   "outputs": [],
   "source": [
    "def one_hot_encode(y, labels):\n",
    "    one_hot = np.zeros((y.shape[0],labels))\n",
    "    for i in range(len(y)):\n",
    "        one_hot[i][y[i]] = 1\n",
    "    return one_hot\n",
    "\n",
    "y_train_encoded = one_hot_encode(y_train, num_labels)\n",
    "y_val_encoded = one_hot_encode(y_val, num_labels)"
   ]
  },
  {
   "cell_type": "markdown",
   "id": "720338bc",
   "metadata": {},
   "source": [
    "# Feature Scaling"
   ]
  },
  {
   "cell_type": "code",
   "execution_count": 16,
   "id": "f640677e",
   "metadata": {},
   "outputs": [],
   "source": [
    "X_train = X_train/255\n",
    "X_val = X_val/255"
   ]
  },
  {
   "cell_type": "markdown",
   "id": "a862b2da",
   "metadata": {},
   "source": [
    "# Defining Activation and Loss Functions"
   ]
  },
  {
   "cell_type": "code",
   "execution_count": 17,
   "id": "aae26ac3",
   "metadata": {},
   "outputs": [],
   "source": [
    "def softmax(x):\n",
    "    exp = np.exp(x - np.max(x, axis=-1, keepdims=True))  \n",
    "    return exp / np.sum(exp, axis=-1, keepdims=True)     \n",
    "\n",
    "def categorical_cross_entropy(y_true, y_pred, epsilon=1e-12):\n",
    "    y_pred = np.clip(y_pred, epsilon, 1. - epsilon) \n",
    "    loss = -np.sum(y_true * np.log(y_pred), axis=1)  \n",
    "    return np.mean(loss)  \n",
    "    \n",
    "def cross_entropy(predictions, labels):\n",
    "    return -np.sum(labels*np.log(predictions + 1e-9)) / predictions.shape[0]\n",
    "\n",
    "def cross_entropy_derivative(predictions, labels): \n",
    "    return (predictions - labels) / predictions.shape[0]"
   ]
  },
  {
   "cell_type": "markdown",
   "id": "d54b797e",
   "metadata": {},
   "source": [
    "# Creating custom structures for neurons and layers"
   ]
  },
  {
   "cell_type": "code",
   "execution_count": 18,
   "id": "1a2d4275",
   "metadata": {},
   "outputs": [],
   "source": [
    "class Dense:\n",
    "    def __init__(self, input_size, neurons):\n",
    "        self.weights = np.random.randn(input_size, neurons) * np.sqrt(2.0 / input_size)                                              \n",
    "        self.biases = np.zeros((1, neurons))\n",
    "        \n",
    "    def forward(self, x):\n",
    "        self.input = x\n",
    "        return np.matmul(x,self.weights) + self.biases\n",
    "        \n",
    "    def backward(self, grad_output, learning_rate):\n",
    "\n",
    "        grad_input = np.dot(grad_output, self.weights.T)\n",
    "        grad_weights = np.dot(self.input.T, grad_output)\n",
    "        grad_biases = np.sum(grad_output, axis=0, keepdims=True)\n",
    "        self.weights -= learning_rate * grad_weights\n",
    "        self.biases -= learning_rate * grad_biases                                                 \n",
    "        return grad_input\n",
    "\n",
    "class ReLU:               \n",
    "    def forward(self, x):\n",
    "                                                                             \n",
    "        self.input = x\n",
    "        self.output = np.maximum(0, x)                                                        \n",
    "        return self.output                                                                                   \n",
    "    \n",
    "    def backward(self, grad_output, learning_rate=None):\n",
    "\n",
    "        grad_input = grad_output * (self.input > 0)\n",
    "        return grad_input\n",
    "        "
   ]
  },
  {
   "cell_type": "code",
   "execution_count": 19,
   "id": "ad09cff3-54d4-49c9-b8f4-52871d4c2af4",
   "metadata": {},
   "outputs": [],
   "source": [
    "class Model:\n",
    "    def __init__(self,):\n",
    "        self.layers = [Dense(784,512), ReLU(), Dense(512,256), ReLU(), Dense(256,10)]\n",
    "\n",
    "    def forward(self,x):\n",
    "        for layer in self.layers:\n",
    "            x = layer.forward(x)\n",
    "        x = softmax(x)\n",
    "        return x\n",
    "\n",
    "    def backward(self, predictions, labels, learning_rate):\n",
    "        dx = cross_entropy_derivative(predictions, labels)\n",
    "        for layer in self.layers[::-1]:\n",
    "            dx = layer.backward(dx, learning_rate)\n",
    "        return dx\n",
    "        "
   ]
  },
  {
   "cell_type": "markdown",
   "id": "2473fdc9",
   "metadata": {},
   "source": [
    "# Defining the validation-test function"
   ]
  },
  {
   "cell_type": "code",
   "execution_count": 20,
   "id": "377ddd86",
   "metadata": {},
   "outputs": [],
   "source": [
    "def test_model(model, X, y):\n",
    "    preds = np.argmax(model.forward(X), axis=1)\n",
    "    accuracy = np.mean(preds == y)\n",
    "    print(f\"✅ Validation Accuracy: {accuracy:.4f}\")\n",
    "    return preds, accuracy"
   ]
  },
  {
   "cell_type": "markdown",
   "id": "e1c93969",
   "metadata": {},
   "source": [
    "# Building a Network and Training it"
   ]
  },
  {
   "cell_type": "code",
   "execution_count": 29,
   "id": "9300ec4b",
   "metadata": {},
   "outputs": [
    {
     "name": "stdout",
     "output_type": "stream",
     "text": [
      "Epoch 1, Loss: 0.4635\n",
      "Epoch 2, Loss: 0.2258\n",
      "Epoch 3, Loss: 0.1698\n",
      "Epoch 4, Loss: 0.1371\n",
      "Epoch 5, Loss: 0.1125\n",
      "Epoch 6, Loss: 0.0956\n",
      "Epoch 7, Loss: 0.0811\n",
      "Epoch 8, Loss: 0.0703\n",
      "Epoch 9, Loss: 0.0601\n",
      "Epoch 10, Loss: 0.0523\n",
      "🧪 Evaluating on validation set...\n",
      "✅ Validation Accuracy: 0.9714\n",
      "Epoch 11, Loss: 0.0453\n",
      "Epoch 12, Loss: 0.0395\n",
      "Epoch 13, Loss: 0.0350\n",
      "Epoch 14, Loss: 0.0304\n",
      "Epoch 15, Loss: 0.0266\n",
      "Epoch 16, Loss: 0.0236\n",
      "Epoch 17, Loss: 0.0204\n",
      "Epoch 18, Loss: 0.0182\n",
      "Epoch 19, Loss: 0.0160\n",
      "Epoch 20, Loss: 0.0142\n",
      "🧪 Evaluating on validation set...\n",
      "✅ Validation Accuracy: 0.9740\n",
      "Epoch 21, Loss: 0.0124\n",
      "Epoch 22, Loss: 0.0109\n",
      "Epoch 23, Loss: 0.0099\n",
      "Epoch 24, Loss: 0.0090\n",
      "Epoch 25, Loss: 0.0080\n",
      "Epoch 26, Loss: 0.0072\n",
      "Epoch 27, Loss: 0.0065\n",
      "Epoch 28, Loss: 0.0060\n",
      "Epoch 29, Loss: 0.0054\n",
      "Epoch 30, Loss: 0.0051\n",
      "🧪 Evaluating on validation set...\n",
      "✅ Validation Accuracy: 0.9764\n",
      "Epoch 31, Loss: 0.0047\n",
      "Epoch 32, Loss: 0.0043\n",
      "Epoch 33, Loss: 0.0041\n",
      "Epoch 34, Loss: 0.0038\n",
      "Epoch 35, Loss: 0.0036\n",
      "Epoch 36, Loss: 0.0034\n",
      "Epoch 37, Loss: 0.0032\n",
      "Epoch 38, Loss: 0.0030\n",
      "Epoch 39, Loss: 0.0029\n",
      "Epoch 40, Loss: 0.0028\n",
      "🧪 Evaluating on validation set...\n",
      "✅ Validation Accuracy: 0.9762\n",
      "Epoch 41, Loss: 0.0026\n",
      "Epoch 42, Loss: 0.0025\n",
      "Epoch 43, Loss: 0.0024\n",
      "Epoch 44, Loss: 0.0023\n",
      "Epoch 45, Loss: 0.0022\n",
      "Epoch 46, Loss: 0.0021\n",
      "Epoch 47, Loss: 0.0020\n",
      "Epoch 48, Loss: 0.0019\n",
      "Epoch 49, Loss: 0.0019\n",
      "Epoch 50, Loss: 0.0018\n",
      "🧪 Evaluating on validation set...\n",
      "✅ Validation Accuracy: 0.9756\n",
      "Epoch 51, Loss: 0.0017\n",
      "Epoch 52, Loss: 0.0017\n",
      "Epoch 53, Loss: 0.0016\n",
      "Epoch 54, Loss: 0.0016\n",
      "Epoch 55, Loss: 0.0015\n",
      "Epoch 56, Loss: 0.0015\n",
      "Epoch 57, Loss: 0.0014\n",
      "Epoch 58, Loss: 0.0014\n",
      "Epoch 59, Loss: 0.0014\n",
      "Epoch 60, Loss: 0.0013\n",
      "🧪 Evaluating on validation set...\n",
      "✅ Validation Accuracy: 0.9757\n",
      "Epoch 61, Loss: 0.0013\n",
      "Epoch 62, Loss: 0.0013\n",
      "Epoch 63, Loss: 0.0012\n",
      "Epoch 64, Loss: 0.0012\n",
      "Epoch 65, Loss: 0.0012\n",
      "Epoch 66, Loss: 0.0011\n",
      "Epoch 67, Loss: 0.0011\n",
      "Epoch 68, Loss: 0.0011\n",
      "Epoch 69, Loss: 0.0011\n",
      "Epoch 70, Loss: 0.0010\n",
      "🧪 Evaluating on validation set...\n",
      "✅ Validation Accuracy: 0.9760\n",
      "Epoch 71, Loss: 0.0010\n",
      "Epoch 72, Loss: 0.0010\n",
      "Epoch 73, Loss: 0.0010\n",
      "Epoch 74, Loss: 0.0009\n",
      "Epoch 75, Loss: 0.0009\n",
      "Epoch 76, Loss: 0.0009\n",
      "Epoch 77, Loss: 0.0009\n",
      "Epoch 78, Loss: 0.0009\n",
      "Epoch 79, Loss: 0.0009\n",
      "Epoch 80, Loss: 0.0008\n",
      "🧪 Evaluating on validation set...\n",
      "✅ Validation Accuracy: 0.9762\n",
      "Epoch 81, Loss: 0.0008\n",
      "Epoch 82, Loss: 0.0008\n",
      "Epoch 83, Loss: 0.0008\n",
      "Epoch 84, Loss: 0.0008\n",
      "Epoch 85, Loss: 0.0008\n",
      "Epoch 86, Loss: 0.0007\n",
      "Epoch 87, Loss: 0.0007\n",
      "Epoch 88, Loss: 0.0007\n",
      "Epoch 89, Loss: 0.0007\n",
      "Epoch 90, Loss: 0.0007\n",
      "🧪 Evaluating on validation set...\n",
      "✅ Validation Accuracy: 0.9762\n",
      "Epoch 91, Loss: 0.0007\n",
      "Epoch 92, Loss: 0.0007\n",
      "Epoch 93, Loss: 0.0007\n",
      "Epoch 94, Loss: 0.0007\n",
      "Epoch 95, Loss: 0.0006\n",
      "Epoch 96, Loss: 0.0006\n",
      "Epoch 97, Loss: 0.0006\n",
      "Epoch 98, Loss: 0.0006\n",
      "Epoch 99, Loss: 0.0006\n",
      "Epoch 100, Loss: 0.0006\n",
      "🧪 Evaluating on validation set...\n",
      "✅ Validation Accuracy: 0.9758\n"
     ]
    }
   ],
   "source": [
    "epochs = 100\n",
    "alpha = 0.1\n",
    "batch_size = 128\n",
    "\n",
    "model = Model()\n",
    "for epoch in range(epochs):\n",
    "    indices = np.arange(X_train.shape[0])\n",
    "    np.random.shuffle(indices)\n",
    "    X_train_shuffled = X_train[indices]\n",
    "    y_train_shuffled = y_train_encoded[indices]\n",
    "\n",
    "    total_loss = 0\n",
    "    num_batches = int(np.ceil(X_train.shape[0] / batch_size))\n",
    "    for i in range(num_batches):\n",
    "        start = i * batch_size\n",
    "        end = min(start + batch_size, X_train.shape[0])\n",
    "\n",
    "        X_batch = X_train_shuffled[start:end]\n",
    "        y_batch = y_train_shuffled[start:end]\n",
    "\n",
    "        # Forward\n",
    "        output = model.forward(X_batch)\n",
    "        loss = categorical_cross_entropy(y_batch, output)\n",
    "        total_loss += loss\n",
    "\n",
    "        # Backward\n",
    "        model.backward(output, y_batch, alpha)\n",
    "\n",
    "    avg_loss = total_loss / num_batches\n",
    "    print(f\"Epoch {epoch+1}, Loss: {avg_loss:.4f}\")\n",
    "\n",
    "    if (epoch + 1) % 10 == 0:\n",
    "        print(\"🧪 Evaluating on validation set...\")\n",
    "        test_model(model, X_val, y_val)\n"
   ]
  },
  {
   "cell_type": "markdown",
   "id": "8e4e4dff",
   "metadata": {},
   "source": [
    "# Predicting Outputs for Test Dataset"
   ]
  },
  {
   "cell_type": "code",
   "execution_count": 32,
   "id": "fecc6589",
   "metadata": {},
   "outputs": [
    {
     "name": "stdout",
     "output_type": "stream",
     "text": [
      "📁 Predictions saved to 'submission.csv'\n"
     ]
    }
   ],
   "source": [
    "X_test = pd.read_csv(\"test.csv\").values/255\n",
    "X_test\n",
    "\n",
    "def predict(model, X):\n",
    "    output = model.forward(X)\n",
    "    return np.argmax(output, axis=1)\n",
    "\n",
    "predictions = predict(model, X_test)\n",
    "\n",
    "# Create submission dataframe\n",
    "submission = pd.DataFrame({\n",
    "    \"ImageId\": np.arange(1, len(predictions) + 1),\n",
    "    \"Label\": predictions\n",
    "})\n",
    "\n",
    "# Save to CSV\n",
    "submission.to_csv(\"submission.csv\", index=False)\n",
    "print(\"📁 Predictions saved to 'submission.csv'\")\n"
   ]
  },
  {
   "cell_type": "code",
   "execution_count": null,
   "id": "5860ede5",
   "metadata": {},
   "outputs": [],
   "source": []
  }
 ],
 "metadata": {
  "kernelspec": {
   "display_name": "base",
   "language": "python",
   "name": "python3"
  },
  "language_info": {
   "codemirror_mode": {
    "name": "ipython",
    "version": 3
   },
   "file_extension": ".py",
   "mimetype": "text/x-python",
   "name": "python",
   "nbconvert_exporter": "python",
   "pygments_lexer": "ipython3",
   "version": "3.12.7"
  }
 },
 "nbformat": 4,
 "nbformat_minor": 5
}
